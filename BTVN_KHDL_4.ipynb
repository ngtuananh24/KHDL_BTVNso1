{
 "cells": [
  {
   "cell_type": "code",
   "execution_count": null,
   "metadata": {},
   "outputs": [],
   "source": [
    "pip install kagglehub"
   ]
  },
  {
   "cell_type": "code",
   "execution_count": 5,
   "metadata": {},
   "outputs": [
    {
     "name": "stdout",
     "output_type": "stream",
     "text": [
      "Collecting pandas\n",
      "  Using cached pandas-2.2.3-cp310-cp310-win_amd64.whl (11.6 MB)\n",
      "Requirement already satisfied: pytz>=2020.1 in c:\\users\\ngtua\\appdata\\local\\programs\\python\\python310\\lib\\site-packages (from pandas) (2025.2)\n",
      "Collecting numpy>=1.22.4\n",
      "  Using cached numpy-2.2.4-cp310-cp310-win_amd64.whl (12.9 MB)\n",
      "Collecting tzdata>=2022.7\n",
      "  Using cached tzdata-2025.2-py2.py3-none-any.whl (347 kB)\n",
      "Requirement already satisfied: python-dateutil>=2.8.2 in c:\\users\\ngtua\\appdata\\roaming\\python\\python310\\site-packages (from pandas) (2.9.0.post0)\n",
      "Requirement already satisfied: six>=1.5 in c:\\users\\ngtua\\appdata\\roaming\\python\\python310\\site-packages (from python-dateutil>=2.8.2->pandas) (1.17.0)\n",
      "Installing collected packages: tzdata, numpy, pandas\n",
      "Successfully installed numpy-2.2.4 pandas-2.2.3 tzdata-2025.2\n",
      "Note: you may need to restart the kernel to use updated packages.\n"
     ]
    },
    {
     "name": "stderr",
     "output_type": "stream",
     "text": [
      "  WARNING: The scripts f2py.exe and numpy-config.exe are installed in 'c:\\Users\\ngtua\\AppData\\Local\\Programs\\Python\\Python310\\Scripts' which is not on PATH.\n",
      "  Consider adding this directory to PATH or, if you prefer to suppress this warning, use --no-warn-script-location.\n",
      "\n",
      "[notice] A new release of pip is available: 23.0.1 -> 25.0.1\n",
      "[notice] To update, run: python.exe -m pip install --upgrade pip\n"
     ]
    }
   ],
   "source": [
    "pip install pandas"
   ]
  },
  {
   "cell_type": "code",
   "execution_count": 3,
   "metadata": {},
   "outputs": [
    {
     "name": "stderr",
     "output_type": "stream",
     "text": [
      "c:\\Users\\ngtua\\AppData\\Local\\Programs\\Python\\Python310\\lib\\site-packages\\tqdm\\auto.py:21: TqdmWarning: IProgress not found. Please update jupyter and ipywidgets. See https://ipywidgets.readthedocs.io/en/stable/user_install.html\n",
      "  from .autonotebook import tqdm as notebook_tqdm\n"
     ]
    },
    {
     "name": "stdout",
     "output_type": "stream",
     "text": [
      "Downloading from https://www.kaggle.com/api/v1/datasets/download/selfishgene/historical-hourly-weather-data?dataset_version_number=2...\n"
     ]
    },
    {
     "name": "stderr",
     "output_type": "stream",
     "text": [
      "100%|██████████| 12.0M/12.0M [00:03<00:00, 3.76MB/s]"
     ]
    },
    {
     "name": "stdout",
     "output_type": "stream",
     "text": [
      "Extracting files...\n"
     ]
    },
    {
     "name": "stderr",
     "output_type": "stream",
     "text": [
      "\n"
     ]
    },
    {
     "name": "stdout",
     "output_type": "stream",
     "text": [
      "Path to dataset files: C:\\Users\\ngtua\\.cache\\kagglehub\\datasets\\selfishgene\\historical-hourly-weather-data\\versions\\2\n"
     ]
    }
   ],
   "source": [
    "import kagglehub\n",
    "\n",
    "# Download latest version\n",
    "path = kagglehub.dataset_download(\"selfishgene/historical-hourly-weather-data\")\n",
    "\n",
    "print(\"Path to dataset files:\", path)"
   ]
  },
  {
   "cell_type": "code",
   "execution_count": null,
   "metadata": {},
   "outputs": [
    {
     "name": "stdout",
     "output_type": "stream",
     "text": [
      "datetime64[ns]\n"
     ]
    }
   ],
   "source": [
    "import pandas as pd\n",
    "\n",
    "#1. Đọc dữ liệu từ các file csv\n",
    "df1  = pd.read_csv(\"city_attributes.csv\")\n",
    "df2 = pd.read_csv(\"humidity.csv\", parse_dates=['datetime'])\n",
    "df3  = pd.read_csv(\"pressure.csv\", parse_dates=['datetime'])\n",
    "df4 = pd.read_csv(\"temperature.csv\", parse_dates=['datetime'])\n",
    "df5  = pd.read_csv(\"weather_description.csv\", parse_dates=['datetime'])\n",
    "df6  = pd.read_csv(\"wind_direction.csv\", parse_dates=['datetime'])\n",
    "df7  = pd.read_csv(\"wind_speed.csv\", parse_dates=['datetime'])\n",
    "#print(df2)\n",
    "print(df2['datetime'].dtype)\n",
    "#Kiểm tra thông tin cột thời gian df2, df3, df5, df6, df7 \n",
    "\n"
   ]
  },
  {
   "cell_type": "code",
   "execution_count": 12,
   "metadata": {},
   "outputs": [
    {
     "name": "stdout",
     "output_type": "stream",
     "text": [
      "2012-10-01 12:00:00\n",
      "2017-11-30 00:00:00\n",
      "0\n"
     ]
    }
   ],
   "source": [
    "# Thông tin cơ bản của cột thời gian\n",
    "print(df2['datetime'].min())  # Ngày nhỏ nhất\n",
    "print(df2['datetime'].max())  # Ngày lớn nhất\n",
    "\n",
    "# Kiểm tra các giá trị null\n",
    "print(df2['datetime'].isnull().sum())  # Đếm giá trị null"
   ]
  },
  {
   "cell_type": "code",
   "execution_count": null,
   "metadata": {},
   "outputs": [],
   "source": [
    "# 2. Lọc dữ liệu, chỉ dữ lại từ năm 2015 trở đi\n",
    "# Lọc dữ liệu từ năm 2015 trở đi\n",
    "df_filtered = df2[df2['datetime'].dt.year >= 2015]\n",
    "\n",
    "# Hiển thị dữ liệu đã lọc\n",
    "print(df_filtered)\n"
   ]
  },
  {
   "cell_type": "code",
   "execution_count": null,
   "metadata": {},
   "outputs": [],
   "source": [
    "# 3. Trích xuất thông tin thời gian\n",
    "# Giả sử 'datetime' là cột thời gian đã được chuyển thành kiểu datetime\n",
    "df2['nam'] = df2['datetime'].dt.year\n",
    "df2['thang'] = df2['datetime'].dt.month\n",
    "df2['thu'] = df2['datetime'].dt.day_name()  \n",
    "df2['gio'] = df2['datetime'].dt.hour\n",
    "\n",
    "print(df2.to_string())\n",
    "\n"
   ]
  },
  {
   "cell_type": "code",
   "execution_count": null,
   "metadata": {},
   "outputs": [],
   "source": [
    "#xuất sang file excel để xem dữ liệu\n",
    "df2.to_csv('df2.csv', index=False)\n"
   ]
  },
  {
   "cell_type": "code",
   "execution_count": null,
   "metadata": {},
   "outputs": [],
   "source": [
    "# 4. **Lấy mẫu lại dữ liệu**: Chuyển từ dữ liệu theo giờ thành **trung bình nhiệt độ theo ngày**.\n",
    "# Lấy mẫu lại dữ liệu, tính trung bình nhiệt độ theo ngày\n",
    "df_daily = df4.resample('D', on='datetime').mean()\n",
    "\n",
    "# Hiển thị kết quả\n",
    "print(df_daily.head())\n"
   ]
  },
  {
   "cell_type": "code",
   "execution_count": null,
   "metadata": {},
   "outputs": [],
   "source": [
    "# 5.**Nội suy dữ liệu bị thiếu** để điền nhiệt độ bị khuyết.\n",
    "# Nội suy dữ liệu bị thiếu\n",
    "df4['Miami'].interpolate(method='linear', inplace=True)\n",
    "print(df4.isnull().sum())"
   ]
  },
  {
   "cell_type": "code",
   "execution_count": null,
   "metadata": {},
   "outputs": [],
   "source": [
    "pip install matplotlib\n"
   ]
  },
  {
   "cell_type": "code",
   "execution_count": null,
   "metadata": {},
   "outputs": [],
   "source": [
    "# 6. **Tính toán xu hướng thời gian**: Tính nhiệt độ trung bình theo tháng và vẽ biểu đồ.\n",
    "import pandas as pd\n",
    "import matplotlib.pyplot as plt\n",
    "\n",
    "# Tính nhiệt độ trung bình theo tháng\n",
    "df2['month'] = df2['datetime'].dt.to_period('M')  # Lấy tháng và năm dạng Period\n",
    "monthly_avg = df2.groupby('month')['San Francisco'].mean()\n",
    "\n",
    "print(\"Nhiệt độ trung bình theo tháng:\")\n",
    "print(monthly_avg)\n",
    "# Vẽ biểu đồ xu hướng thời gian\n",
    "plt.figure(figsize=(10, 5))\n",
    "monthly_avg.plot(kind='line', marker='o', color='b', linestyle='-', linewidth=2, markersize=6)\n",
    "plt.title(\"Xu hướng nhiệt độ trung bình theo tháng\")\n",
    "plt.xlabel(\"Tháng\")\n",
    "plt.ylabel(\"Nhiệt độ trung bình (°C)\")\n",
    "plt.grid(True)\n",
    "plt.xticks(rotation=45)  # Xoay nhãn tháng để dễ nhìn hơn\n",
    "plt.show()\n"
   ]
  },
  {
   "cell_type": "code",
   "execution_count": 39,
   "metadata": {},
   "outputs": [
    {
     "name": "stdout",
     "output_type": "stream",
     "text": [
      "✅ Đã chuyển đổi thành công sang Markdown: example.md\n"
     ]
    }
   ],
   "source": [
    "from nbconvert import MarkdownExporter\n",
    "import nbformat\n",
    "\n",
    "# Đọc file .ipynb\n",
    "with open(\"BTVN_KHDL_4.ipynb\", \"r\", encoding=\"utf-8\") as f:\n",
    "    notebook = nbformat.read(f, as_version=4)\n",
    "\n",
    "# Tạo đối tượng MarkdownExporter\n",
    "md_exporter = MarkdownExporter()\n",
    "(body, resources) = md_exporter.from_notebook_node(notebook)\n",
    "\n",
    "# Ghi ra file .md\n",
    "with open(\"example.md\", \"w\", encoding=\"utf-8\") as f:\n",
    "    f.write(body)\n",
    "\n",
    "print(\"✅ Đã chuyển đổi thành công sang Markdown: example.md\")\n"
   ]
  }
 ],
 "metadata": {
  "kernelspec": {
   "display_name": "Python 3",
   "language": "python",
   "name": "python3"
  },
  "language_info": {
   "codemirror_mode": {
    "name": "ipython",
    "version": 3
   },
   "file_extension": ".py",
   "mimetype": "text/x-python",
   "name": "python",
   "nbconvert_exporter": "python",
   "pygments_lexer": "ipython3",
   "version": "3.10.11"
  }
 },
 "nbformat": 4,
 "nbformat_minor": 2
}
